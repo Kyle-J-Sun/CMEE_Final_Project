{
 "cells": [
  {
   "cell_type": "markdown",
   "id": "ff67b9c1-5cbe-4137-9a44-3e16db62a8ae",
   "metadata": {},
   "source": [
    "# LDA MODELLING FOR ALL DATA"
   ]
  },
  {
   "cell_type": "code",
   "execution_count": 1,
   "id": "e0ad0392-7b78-4819-8a26-772ad31fadde",
   "metadata": {},
   "outputs": [],
   "source": [
    "# Import Packages\n",
    "from imp import reload\n",
    "import pandas as pd\n",
    "import numpy as np\n",
    "import os\n",
    "import matplotlib.pyplot as plt\n",
    "from tool_functions import *\n",
    "import warnings\n",
    "warnings.filterwarnings('ignore')  # To ignore all warnings that arise here to enhance clarity"
   ]
  },
  {
   "cell_type": "markdown",
   "id": "48150911-0f38-4b92-9490-50d57f548eff",
   "metadata": {},
   "source": [
    "# Data Extraction"
   ]
  },
  {
   "cell_type": "code",
   "execution_count": 2,
   "id": "ebf1845b-28f4-4553-9631-475e0d5dab5e",
   "metadata": {},
   "outputs": [],
   "source": [
    "funding = MySQLPipline(database='funding')"
   ]
  },
  {
   "cell_type": "code",
   "execution_count": 3,
   "id": "ffc4dcd4-7f86-438b-931b-7873712a5c69",
   "metadata": {},
   "outputs": [],
   "source": [
    "NSFdata = funding.NSFDataset()\n",
    "NSFdata[\"institution\"] = [\"NSF\"] * NSFdata.shape[0]"
   ]
  },
  {
   "cell_type": "code",
   "execution_count": 4,
   "id": "cb90795b-0407-4414-aaa1-68e4b4347683",
   "metadata": {},
   "outputs": [],
   "source": [
    "NIHdata = funding.NIHDataset()\n",
    "NIHdata[\"institution\"] = [\"NIH\"] * NIHdata.shape[0]"
   ]
  },
  {
   "cell_type": "code",
   "execution_count": 5,
   "id": "5bc5682f-8715-4981-a1c5-fdd7376d4ad9",
   "metadata": {},
   "outputs": [],
   "source": [
    "ERCdata = funding.ERCDataset()\n",
    "ERCdata[\"institution\"] = [\"ERC\"] * ERCdata.shape[0]"
   ]
  },
  {
   "cell_type": "code",
   "execution_count": 6,
   "id": "b99681e9-6cd4-4e92-8c84-e3fb7810857f",
   "metadata": {},
   "outputs": [],
   "source": [
    "UKRIdata = funding.UKRIDataset()\n",
    "UKRIdata[\"institution\"] = [\"UKRI\"] * UKRIdata.shape[0]"
   ]
  },
  {
   "cell_type": "code",
   "execution_count": 7,
   "id": "c2058681-9a06-4c88-afd5-bb9287b3ce33",
   "metadata": {},
   "outputs": [],
   "source": [
    "funding.close_Conn()"
   ]
  },
  {
   "cell_type": "code",
   "execution_count": 8,
   "id": "db37ed88-c4d7-49b1-8268-f4d68bf517da",
   "metadata": {},
   "outputs": [],
   "source": [
    "df1 = pd.concat([NIHdata[[\"title\", \"abstract\", \"institution\"]],\n",
    "                ERCdata[[\"title\", \"abstract\", \"institution\"]]])\n",
    "df2 = pd.concat([NSFdata[[\"title\", \"abstract\", \"institution\"]],\n",
    "                UKRIdata[[\"title\", \"abstract\", \"institution\"]]])\n",
    "df = pd.concat([df1, df2])\n",
    "df.reset_index(drop=True, inplace=True)"
   ]
  },
  {
   "cell_type": "markdown",
   "id": "1b49edad-a97e-46a9-8080-cf1f1637eeda",
   "metadata": {},
   "source": [
    "# Data Processing"
   ]
  },
  {
   "cell_type": "code",
   "execution_count": 9,
   "id": "8615ab92-a5ed-4f80-895d-53b5926fde3a",
   "metadata": {},
   "outputs": [],
   "source": [
    "pp = nlp_ldamodel.preprocessor(dataset = df)"
   ]
  },
  {
   "cell_type": "code",
   "execution_count": 10,
   "id": "7a433a0a-f240-44a9-9405-dd18cae8627e",
   "metadata": {},
   "outputs": [],
   "source": [
    "pp.remove_abstract(regex=r'Abstracts are not currently available in GtR').reset_index(drop = True, inplace = True)\n",
    "pp.remove_abstract(regex=r'No abstract available').reset_index(drop = True, inplace = True)"
   ]
  },
  {
   "cell_type": "code",
   "execution_count": 11,
   "id": "f4a2ab35-4dec-4bef-9b8b-5928d46b1927",
   "metadata": {},
   "outputs": [],
   "source": [
    "pp.dataset = pp.dataset[~pd.isna(pp.dataset.title)]\n",
    "pp.reset_index()"
   ]
  },
  {
   "cell_type": "code",
   "execution_count": 12,
   "id": "6700f086-e785-4431-ba0f-ca95b8650d2b",
   "metadata": {},
   "outputs": [
    {
     "name": "stdout",
     "output_type": "stream",
     "text": [
      "This may take long time to run...\n",
      "Finished! It takes 74.83084011077881 seconds to run.\n"
     ]
    },
    {
     "data": {
      "text/html": [
       "<div>\n",
       "<style scoped>\n",
       "    .dataframe tbody tr th:only-of-type {\n",
       "        vertical-align: middle;\n",
       "    }\n",
       "\n",
       "    .dataframe tbody tr th {\n",
       "        vertical-align: top;\n",
       "    }\n",
       "\n",
       "    .dataframe thead th {\n",
       "        text-align: right;\n",
       "    }\n",
       "</style>\n",
       "<table border=\"1\" class=\"dataframe\">\n",
       "  <thead>\n",
       "    <tr style=\"text-align: right;\">\n",
       "      <th></th>\n",
       "      <th>title</th>\n",
       "      <th>abstract</th>\n",
       "      <th>institution</th>\n",
       "    </tr>\n",
       "  </thead>\n",
       "  <tbody>\n",
       "    <tr>\n",
       "      <th>0</th>\n",
       "      <td>Novel Treatments for Ocular Surface Diseases</td>\n",
       "      <td>PROJECT DESCRIPTION ABSTRACT Dry eye disease D...</td>\n",
       "      <td>NIH</td>\n",
       "    </tr>\n",
       "    <tr>\n",
       "      <th>1</th>\n",
       "      <td>SYNTHETIC GENE CIRCUITS FOR MONITORING T CELL ...</td>\n",
       "      <td>Chimeric antigen receptor CAR T cell therapy h...</td>\n",
       "      <td>NIH</td>\n",
       "    </tr>\n",
       "    <tr>\n",
       "      <th>2</th>\n",
       "      <td>Training Program in Cancer Biology</td>\n",
       "      <td>Project Summary The Icahn School of Medicine a...</td>\n",
       "      <td>NIH</td>\n",
       "    </tr>\n",
       "    <tr>\n",
       "      <th>3</th>\n",
       "      <td>Understanding the influence of bone metastatic...</td>\n",
       "      <td>While immunotherapies have made strides in the...</td>\n",
       "      <td>NIH</td>\n",
       "    </tr>\n",
       "    <tr>\n",
       "      <th>4</th>\n",
       "      <td>Modeling bladder cancer pathogenesis and tumor...</td>\n",
       "      <td>Project Summary Abstract This new Program Proj...</td>\n",
       "      <td>NIH</td>\n",
       "    </tr>\n",
       "    <tr>\n",
       "      <th>...</th>\n",
       "      <td>...</td>\n",
       "      <td>...</td>\n",
       "      <td>...</td>\n",
       "    </tr>\n",
       "    <tr>\n",
       "      <th>173210</th>\n",
       "      <td>Work of Words  Re reading the poetry of Dylan ...</td>\n",
       "      <td>This project is the first to systematically ap...</td>\n",
       "      <td>UKRI</td>\n",
       "    </tr>\n",
       "    <tr>\n",
       "      <th>173211</th>\n",
       "      <td>Surface rupture in the 12 May 2008 Sichuan ear...</td>\n",
       "      <td>The May earthquake in Sichuan Province China h...</td>\n",
       "      <td>UKRI</td>\n",
       "    </tr>\n",
       "    <tr>\n",
       "      <th>173212</th>\n",
       "      <td>Influences on negotiating clinical need  amp  ...</td>\n",
       "      <td>This study examines how patients and dentists ...</td>\n",
       "      <td>UKRI</td>\n",
       "    </tr>\n",
       "    <tr>\n",
       "      <th>173213</th>\n",
       "      <td>DiRAC2  100 Tflop s HPC cluster procurement</td>\n",
       "      <td>This award covers the capital cost of procurin...</td>\n",
       "      <td>UKRI</td>\n",
       "    </tr>\n",
       "    <tr>\n",
       "      <th>173214</th>\n",
       "      <td>UK Involvement in LSST  Phase A</td>\n",
       "      <td>Summary We propose a programme of work to enab...</td>\n",
       "      <td>UKRI</td>\n",
       "    </tr>\n",
       "  </tbody>\n",
       "</table>\n",
       "<p>173215 rows × 3 columns</p>\n",
       "</div>"
      ],
      "text/plain": [
       "                                                    title  \\\n",
       "0            Novel Treatments for Ocular Surface Diseases   \n",
       "1       SYNTHETIC GENE CIRCUITS FOR MONITORING T CELL ...   \n",
       "2                      Training Program in Cancer Biology   \n",
       "3       Understanding the influence of bone metastatic...   \n",
       "4       Modeling bladder cancer pathogenesis and tumor...   \n",
       "...                                                   ...   \n",
       "173210  Work of Words  Re reading the poetry of Dylan ...   \n",
       "173211  Surface rupture in the 12 May 2008 Sichuan ear...   \n",
       "173212  Influences on negotiating clinical need  amp  ...   \n",
       "173213        DiRAC2  100 Tflop s HPC cluster procurement   \n",
       "173214                    UK Involvement in LSST  Phase A   \n",
       "\n",
       "                                                 abstract institution  \n",
       "0       PROJECT DESCRIPTION ABSTRACT Dry eye disease D...         NIH  \n",
       "1       Chimeric antigen receptor CAR T cell therapy h...         NIH  \n",
       "2       Project Summary The Icahn School of Medicine a...         NIH  \n",
       "3       While immunotherapies have made strides in the...         NIH  \n",
       "4       Project Summary Abstract This new Program Proj...         NIH  \n",
       "...                                                   ...         ...  \n",
       "173210  This project is the first to systematically ap...        UKRI  \n",
       "173211  The May earthquake in Sichuan Province China h...        UKRI  \n",
       "173212  This study examines how patients and dentists ...        UKRI  \n",
       "173213  This award covers the capital cost of procurin...        UKRI  \n",
       "173214  Summary We propose a programme of work to enab...        UKRI  \n",
       "\n",
       "[173215 rows x 3 columns]"
      ]
     },
     "execution_count": 12,
     "metadata": {},
     "output_type": "execute_result"
    }
   ],
   "source": [
    "pp.clean_text()"
   ]
  },
  {
   "cell_type": "code",
   "execution_count": 13,
   "id": "a273ce46-0ba4-48af-8b83-1e3fd518c4a4",
   "metadata": {},
   "outputs": [],
   "source": [
    "pp.reset_index()"
   ]
  },
  {
   "cell_type": "code",
   "execution_count": 14,
   "id": "83fb0ced-9103-4d08-81e5-0a39d1223196",
   "metadata": {},
   "outputs": [],
   "source": [
    "df_cleaned = pp.dataset"
   ]
  },
  {
   "cell_type": "code",
   "execution_count": 15,
   "id": "253f1341-718e-4f9c-a49d-54fa3b4bd3c5",
   "metadata": {},
   "outputs": [
    {
     "name": "stdout",
     "output_type": "stream",
     "text": [
      "Stored 'df_cleaned' (DataFrame)\n"
     ]
    }
   ],
   "source": [
    "%store df_cleaned"
   ]
  },
  {
   "cell_type": "code",
   "execution_count": 21,
   "id": "0aebef11-3701-46eb-9d8e-e86f279015d7",
   "metadata": {},
   "outputs": [],
   "source": [
    "pp.dataset.to_csv(\"../Data/cleanData.csv\", index = False)"
   ]
  },
  {
   "cell_type": "code",
   "execution_count": 23,
   "id": "87371575-7239-47f6-8e64-d98fd114d198",
   "metadata": {},
   "outputs": [
    {
     "data": {
      "text/html": [
       "<div>\n",
       "<style scoped>\n",
       "    .dataframe tbody tr th:only-of-type {\n",
       "        vertical-align: middle;\n",
       "    }\n",
       "\n",
       "    .dataframe tbody tr th {\n",
       "        vertical-align: top;\n",
       "    }\n",
       "\n",
       "    .dataframe thead th {\n",
       "        text-align: right;\n",
       "    }\n",
       "</style>\n",
       "<table border=\"1\" class=\"dataframe\">\n",
       "  <thead>\n",
       "    <tr style=\"text-align: right;\">\n",
       "      <th></th>\n",
       "      <th>title</th>\n",
       "      <th>abstract</th>\n",
       "      <th>institution</th>\n",
       "    </tr>\n",
       "  </thead>\n",
       "  <tbody>\n",
       "    <tr>\n",
       "      <th>0</th>\n",
       "      <td>Novel Treatments for Ocular Surface Diseases</td>\n",
       "      <td>PROJECT DESCRIPTION ABSTRACT Dry eye disease D...</td>\n",
       "      <td>NIH</td>\n",
       "    </tr>\n",
       "    <tr>\n",
       "      <th>1</th>\n",
       "      <td>SYNTHETIC GENE CIRCUITS FOR MONITORING T CELL ...</td>\n",
       "      <td>Chimeric antigen receptor CAR T cell therapy h...</td>\n",
       "      <td>NIH</td>\n",
       "    </tr>\n",
       "    <tr>\n",
       "      <th>2</th>\n",
       "      <td>Training Program in Cancer Biology</td>\n",
       "      <td>Project Summary The Icahn School of Medicine a...</td>\n",
       "      <td>NIH</td>\n",
       "    </tr>\n",
       "    <tr>\n",
       "      <th>3</th>\n",
       "      <td>Understanding the influence of bone metastatic...</td>\n",
       "      <td>While immunotherapies have made strides in the...</td>\n",
       "      <td>NIH</td>\n",
       "    </tr>\n",
       "    <tr>\n",
       "      <th>4</th>\n",
       "      <td>Modeling bladder cancer pathogenesis and tumor...</td>\n",
       "      <td>Project Summary Abstract This new Program Proj...</td>\n",
       "      <td>NIH</td>\n",
       "    </tr>\n",
       "    <tr>\n",
       "      <th>...</th>\n",
       "      <td>...</td>\n",
       "      <td>...</td>\n",
       "      <td>...</td>\n",
       "    </tr>\n",
       "    <tr>\n",
       "      <th>173210</th>\n",
       "      <td>Work of Words  Re reading the poetry of Dylan ...</td>\n",
       "      <td>This project is the first to systematically ap...</td>\n",
       "      <td>UKRI</td>\n",
       "    </tr>\n",
       "    <tr>\n",
       "      <th>173211</th>\n",
       "      <td>Surface rupture in the 12 May 2008 Sichuan ear...</td>\n",
       "      <td>The May earthquake in Sichuan Province China h...</td>\n",
       "      <td>UKRI</td>\n",
       "    </tr>\n",
       "    <tr>\n",
       "      <th>173212</th>\n",
       "      <td>Influences on negotiating clinical need  amp  ...</td>\n",
       "      <td>This study examines how patients and dentists ...</td>\n",
       "      <td>UKRI</td>\n",
       "    </tr>\n",
       "    <tr>\n",
       "      <th>173213</th>\n",
       "      <td>DiRAC2  100 Tflop s HPC cluster procurement</td>\n",
       "      <td>This award covers the capital cost of procurin...</td>\n",
       "      <td>UKRI</td>\n",
       "    </tr>\n",
       "    <tr>\n",
       "      <th>173214</th>\n",
       "      <td>UK Involvement in LSST  Phase A</td>\n",
       "      <td>Summary We propose a programme of work to enab...</td>\n",
       "      <td>UKRI</td>\n",
       "    </tr>\n",
       "  </tbody>\n",
       "</table>\n",
       "<p>173215 rows × 3 columns</p>\n",
       "</div>"
      ],
      "text/plain": [
       "                                                    title  \\\n",
       "0            Novel Treatments for Ocular Surface Diseases   \n",
       "1       SYNTHETIC GENE CIRCUITS FOR MONITORING T CELL ...   \n",
       "2                      Training Program in Cancer Biology   \n",
       "3       Understanding the influence of bone metastatic...   \n",
       "4       Modeling bladder cancer pathogenesis and tumor...   \n",
       "...                                                   ...   \n",
       "173210  Work of Words  Re reading the poetry of Dylan ...   \n",
       "173211  Surface rupture in the 12 May 2008 Sichuan ear...   \n",
       "173212  Influences on negotiating clinical need  amp  ...   \n",
       "173213        DiRAC2  100 Tflop s HPC cluster procurement   \n",
       "173214                    UK Involvement in LSST  Phase A   \n",
       "\n",
       "                                                 abstract institution  \n",
       "0       PROJECT DESCRIPTION ABSTRACT Dry eye disease D...         NIH  \n",
       "1       Chimeric antigen receptor CAR T cell therapy h...         NIH  \n",
       "2       Project Summary The Icahn School of Medicine a...         NIH  \n",
       "3       While immunotherapies have made strides in the...         NIH  \n",
       "4       Project Summary Abstract This new Program Proj...         NIH  \n",
       "...                                                   ...         ...  \n",
       "173210  This project is the first to systematically ap...        UKRI  \n",
       "173211  The May earthquake in Sichuan Province China h...        UKRI  \n",
       "173212  This study examines how patients and dentists ...        UKRI  \n",
       "173213  This award covers the capital cost of procurin...        UKRI  \n",
       "173214  Summary We propose a programme of work to enab...        UKRI  \n",
       "\n",
       "[173215 rows x 3 columns]"
      ]
     },
     "execution_count": 23,
     "metadata": {},
     "output_type": "execute_result"
    }
   ],
   "source": [
    "pd.read_csv(\"../Data/cleanData.csv\")"
   ]
  },
  {
   "cell_type": "markdown",
   "id": "b9ea5bbf-1bd4-450e-8d80-5b6e3000408a",
   "metadata": {},
   "source": [
    "# LDA Model Creating"
   ]
  },
  {
   "cell_type": "code",
   "execution_count": 23,
   "id": "f96d5527-513a-4b27-987f-8b6e20210a8d",
   "metadata": {},
   "outputs": [],
   "source": [
    "# df = pd.read_csv(\"../Data/cleaned_data.csv\", encoding = \"utf-8-sig\")"
   ]
  },
  {
   "cell_type": "code",
   "execution_count": 24,
   "id": "02e66ef6-d093-489b-977f-db9ca169e360",
   "metadata": {},
   "outputs": [],
   "source": [
    "# %store -r df_cleaned"
   ]
  },
  {
   "cell_type": "code",
   "execution_count": 25,
   "id": "5fa232d5-bba5-40ae-8955-d6141861bc40",
   "metadata": {},
   "outputs": [],
   "source": [
    "# mp2 = modelProcessor(dat = df_cleaned)"
   ]
  },
  {
   "cell_type": "code",
   "execution_count": 26,
   "id": "5c2c2657-b05c-4605-86c5-73e5170f9cb1",
   "metadata": {},
   "outputs": [],
   "source": [
    "def get_tfidf(docList):\n",
    "    vectorizer = TfidfVectorizer()\n",
    "    vectors = vectorizer.fit_transform(docList)\n",
    "    feature_names = vectorizer.get_feature_names()\n",
    "    dense = vectors.todense()\n",
    "    denselist = dense.tolist()\n",
    "    tfidf = pd.DataFrame(denselist, columns=feature_names)\n",
    "    return tfidf"
   ]
  },
  {
   "cell_type": "code",
   "execution_count": 27,
   "id": "e9275e8c-c3db-4870-b188-a23d2667680f",
   "metadata": {},
   "outputs": [
    {
     "name": "stdout",
     "output_type": "stream",
     "text": [
      "Finished! It takes 68.73696994781494 seconds to run.\n"
     ]
    },
    {
     "data": {
      "text/html": [
       "<div>\n",
       "<style scoped>\n",
       "    .dataframe tbody tr th:only-of-type {\n",
       "        vertical-align: middle;\n",
       "    }\n",
       "\n",
       "    .dataframe tbody tr th {\n",
       "        vertical-align: top;\n",
       "    }\n",
       "\n",
       "    .dataframe thead th {\n",
       "        text-align: right;\n",
       "    }\n",
       "</style>\n",
       "<table border=\"1\" class=\"dataframe\">\n",
       "  <thead>\n",
       "    <tr style=\"text-align: right;\">\n",
       "      <th></th>\n",
       "      <th>title</th>\n",
       "      <th>abstract</th>\n",
       "      <th>institution</th>\n",
       "      <th>corpus</th>\n",
       "    </tr>\n",
       "  </thead>\n",
       "  <tbody>\n",
       "    <tr>\n",
       "      <th>0</th>\n",
       "      <td>Novel Treatments for Ocular Surface Diseases</td>\n",
       "      <td>PROJECT DESCRIPTION ABSTRACT Dry eye disease  ...</td>\n",
       "      <td>NIH</td>\n",
       "      <td>[dry, eye, disease, ded, ocular, surface, dise...</td>\n",
       "    </tr>\n",
       "    <tr>\n",
       "      <th>1</th>\n",
       "      <td>SYNTHETIC GENE CIRCUITS FOR MONITORING T-CELL ...</td>\n",
       "      <td>Chimeric antigen receptor  CAR  T cell therapy...</td>\n",
       "      <td>NIH</td>\n",
       "      <td>[chimeric, antigen, receptor, car, cell, thera...</td>\n",
       "    </tr>\n",
       "    <tr>\n",
       "      <th>2</th>\n",
       "      <td>Training Program in Cancer Biology</td>\n",
       "      <td>Project Summary The Icahn School of Medicine a...</td>\n",
       "      <td>NIH</td>\n",
       "      <td>[icahn, school, medicine, mount, sinai, propos...</td>\n",
       "    </tr>\n",
       "    <tr>\n",
       "      <th>3</th>\n",
       "      <td>Understanding the influence of bone-metastatic...</td>\n",
       "      <td>While immunotherapies have made strides in the...</td>\n",
       "      <td>NIH</td>\n",
       "      <td>[immunotherapies, strides, treatment, cancers,...</td>\n",
       "    </tr>\n",
       "    <tr>\n",
       "      <th>4</th>\n",
       "      <td>Modeling bladder cancer pathogenesis and tumor...</td>\n",
       "      <td>Project Summary Abstract   This new Program Pr...</td>\n",
       "      <td>NIH</td>\n",
       "      <td>[investigate, molecular, mechanisms, underlyin...</td>\n",
       "    </tr>\n",
       "    <tr>\n",
       "      <th>...</th>\n",
       "      <td>...</td>\n",
       "      <td>...</td>\n",
       "      <td>...</td>\n",
       "      <td>...</td>\n",
       "    </tr>\n",
       "    <tr>\n",
       "      <th>173607</th>\n",
       "      <td>Work of Words: Re-reading the poetry of Dylan ...</td>\n",
       "      <td>This project is the first to systematically ap...</td>\n",
       "      <td>UKRI</td>\n",
       "      <td>[systematically, apply, modern, critical, theo...</td>\n",
       "    </tr>\n",
       "    <tr>\n",
       "      <th>173608</th>\n",
       "      <td>Surface rupture in the 12 May 2008 Sichuan ear...</td>\n",
       "      <td>The May earthquake in Sichuan Province  China ...</td>\n",
       "      <td>UKRI</td>\n",
       "      <td>[earthquake, sichuan, province, china, magnitu...</td>\n",
       "    </tr>\n",
       "    <tr>\n",
       "      <th>173609</th>\n",
       "      <td>Influences on negotiating clinical need &amp;amp; ...</td>\n",
       "      <td>This study examines how patients and dentists ...</td>\n",
       "      <td>UKRI</td>\n",
       "      <td>[patients, dentists, decide, pursue, treatment...</td>\n",
       "    </tr>\n",
       "    <tr>\n",
       "      <th>173610</th>\n",
       "      <td>DiRAC2: 100 Tflop/s HPC cluster procurement</td>\n",
       "      <td>This award covers the capital cost of procurin...</td>\n",
       "      <td>UKRI</td>\n",
       "      <td>[award, covers, capital, cost, procuring, tflo...</td>\n",
       "    </tr>\n",
       "    <tr>\n",
       "      <th>173611</th>\n",
       "      <td>UK Involvement in LSST: Phase A</td>\n",
       "      <td>Summary   We propose a programme of work to en...</td>\n",
       "      <td>UKRI</td>\n",
       "      <td>[propose, programme, work, enable, uk, partici...</td>\n",
       "    </tr>\n",
       "  </tbody>\n",
       "</table>\n",
       "<p>173612 rows × 4 columns</p>\n",
       "</div>"
      ],
      "text/plain": [
       "                                                    title  \\\n",
       "0            Novel Treatments for Ocular Surface Diseases   \n",
       "1       SYNTHETIC GENE CIRCUITS FOR MONITORING T-CELL ...   \n",
       "2                      Training Program in Cancer Biology   \n",
       "3       Understanding the influence of bone-metastatic...   \n",
       "4       Modeling bladder cancer pathogenesis and tumor...   \n",
       "...                                                   ...   \n",
       "173607  Work of Words: Re-reading the poetry of Dylan ...   \n",
       "173608  Surface rupture in the 12 May 2008 Sichuan ear...   \n",
       "173609  Influences on negotiating clinical need &amp; ...   \n",
       "173610        DiRAC2: 100 Tflop/s HPC cluster procurement   \n",
       "173611                    UK Involvement in LSST: Phase A   \n",
       "\n",
       "                                                 abstract institution  \\\n",
       "0       PROJECT DESCRIPTION ABSTRACT Dry eye disease  ...         NIH   \n",
       "1       Chimeric antigen receptor  CAR  T cell therapy...         NIH   \n",
       "2       Project Summary The Icahn School of Medicine a...         NIH   \n",
       "3       While immunotherapies have made strides in the...         NIH   \n",
       "4       Project Summary Abstract   This new Program Pr...         NIH   \n",
       "...                                                   ...         ...   \n",
       "173607  This project is the first to systematically ap...        UKRI   \n",
       "173608  The May earthquake in Sichuan Province  China ...        UKRI   \n",
       "173609  This study examines how patients and dentists ...        UKRI   \n",
       "173610  This award covers the capital cost of procurin...        UKRI   \n",
       "173611  Summary   We propose a programme of work to en...        UKRI   \n",
       "\n",
       "                                                   corpus  \n",
       "0       [dry, eye, disease, ded, ocular, surface, dise...  \n",
       "1       [chimeric, antigen, receptor, car, cell, thera...  \n",
       "2       [icahn, school, medicine, mount, sinai, propos...  \n",
       "3       [immunotherapies, strides, treatment, cancers,...  \n",
       "4       [investigate, molecular, mechanisms, underlyin...  \n",
       "...                                                   ...  \n",
       "173607  [systematically, apply, modern, critical, theo...  \n",
       "173608  [earthquake, sichuan, province, china, magnitu...  \n",
       "173609  [patients, dentists, decide, pursue, treatment...  \n",
       "173610  [award, covers, capital, cost, procuring, tflo...  \n",
       "173611  [propose, programme, work, enable, uk, partici...  \n",
       "\n",
       "[173612 rows x 4 columns]"
      ]
     },
     "execution_count": 27,
     "metadata": {},
     "output_type": "execute_result"
    }
   ],
   "source": [
    "pp.remove_stop_words()"
   ]
  },
  {
   "cell_type": "code",
   "execution_count": 29,
   "id": "d0c3b56e-bcaa-4517-9f2a-f58420945a67",
   "metadata": {},
   "outputs": [
    {
     "name": "stdout",
     "output_type": "stream",
     "text": [
      "Stored 'df_noStopWords' (DataFrame)\n"
     ]
    }
   ],
   "source": [
    "df_noStopWords = pp.dataset\n",
    "%store df_noStopWords"
   ]
  },
  {
   "cell_type": "markdown",
   "id": "5dc75294-e8e8-4e82-981e-fe420d7e3202",
   "metadata": {},
   "source": [
    "# Stemming and Lemmatization"
   ]
  },
  {
   "cell_type": "code",
   "execution_count": 2,
   "id": "d81e2240-03f5-48e0-816b-020f78e4e083",
   "metadata": {},
   "outputs": [],
   "source": [
    "%store -r df_noStopWords\n",
    "pp = nlp_ldamodel.preprocessor(dataset = df_noStopWords)"
   ]
  },
  {
   "cell_type": "code",
   "execution_count": 3,
   "id": "8d8aa1b3-0c47-4e5d-84dd-948a377512e7",
   "metadata": {},
   "outputs": [],
   "source": [
    "pp.dataset.reset_index(drop = True, inplace = True)"
   ]
  },
  {
   "cell_type": "code",
   "execution_count": 4,
   "id": "94a0f4a5-6375-4485-a00a-0ecaed996f69",
   "metadata": {},
   "outputs": [
    {
     "name": "stdout",
     "output_type": "stream",
     "text": [
      "start stemming...\n",
      "Stemming finished! Stemming takes 2851.982408761978 seconds to run\n"
     ]
    },
    {
     "data": {
      "text/html": [
       "<div>\n",
       "<style scoped>\n",
       "    .dataframe tbody tr th:only-of-type {\n",
       "        vertical-align: middle;\n",
       "    }\n",
       "\n",
       "    .dataframe tbody tr th {\n",
       "        vertical-align: top;\n",
       "    }\n",
       "\n",
       "    .dataframe thead th {\n",
       "        text-align: right;\n",
       "    }\n",
       "</style>\n",
       "<table border=\"1\" class=\"dataframe\">\n",
       "  <thead>\n",
       "    <tr style=\"text-align: right;\">\n",
       "      <th></th>\n",
       "      <th>title</th>\n",
       "      <th>abstract</th>\n",
       "      <th>institution</th>\n",
       "      <th>corpus</th>\n",
       "      <th>corpus_stemmed</th>\n",
       "      <th>corpusSet</th>\n",
       "    </tr>\n",
       "  </thead>\n",
       "  <tbody>\n",
       "    <tr>\n",
       "      <th>0</th>\n",
       "      <td>Novel Treatments for Ocular Surface Diseases</td>\n",
       "      <td>PROJECT DESCRIPTION ABSTRACT Dry eye disease  ...</td>\n",
       "      <td>NIH</td>\n",
       "      <td>[dry, eye, disease, ded, ocular, surface, dise...</td>\n",
       "      <td>[dri, eye, diseas, ded, ocular, surfac, diseas...</td>\n",
       "      <td>{long, condit, vitro, reduc, life, ocular, opp...</td>\n",
       "    </tr>\n",
       "    <tr>\n",
       "      <th>1</th>\n",
       "      <td>SYNTHETIC GENE CIRCUITS FOR MONITORING T-CELL ...</td>\n",
       "      <td>Chimeric antigen receptor  CAR  T cell therapy...</td>\n",
       "      <td>NIH</td>\n",
       "      <td>[chimeric, antigen, receptor, car, cell, thera...</td>\n",
       "      <td>[chimer, antigen, receptor, car, cell, therapi...</td>\n",
       "      <td>{type, failur, independ, blockad, respond, pla...</td>\n",
       "    </tr>\n",
       "    <tr>\n",
       "      <th>2</th>\n",
       "      <td>Training Program in Cancer Biology</td>\n",
       "      <td>Project Summary The Icahn School of Medicine a...</td>\n",
       "      <td>NIH</td>\n",
       "      <td>[icahn, school, medicine, mount, sinai, propos...</td>\n",
       "      <td>[icahn, school, medicin, mount, sinai, propos,...</td>\n",
       "      <td>{confer, outstand, remark, establish, document...</td>\n",
       "    </tr>\n",
       "    <tr>\n",
       "      <th>3</th>\n",
       "      <td>Understanding the influence of bone-metastatic...</td>\n",
       "      <td>While immunotherapies have made strides in the...</td>\n",
       "      <td>NIH</td>\n",
       "      <td>[immunotherapies, strides, treatment, cancers,...</td>\n",
       "      <td>[immunotherapi, stride, treatment, cancer, cas...</td>\n",
       "      <td>{driven, immunocompet, castrat, microenvironme...</td>\n",
       "    </tr>\n",
       "    <tr>\n",
       "      <th>4</th>\n",
       "      <td>Modeling bladder cancer pathogenesis and tumor...</td>\n",
       "      <td>Project Summary Abstract   This new Program Pr...</td>\n",
       "      <td>NIH</td>\n",
       "      <td>[investigate, molecular, mechanisms, underlyin...</td>\n",
       "      <td>[investig, molecular, mechan, underli, pathoge...</td>\n",
       "      <td>{patholog, interrel, haa, maintain, chromatin,...</td>\n",
       "    </tr>\n",
       "    <tr>\n",
       "      <th>...</th>\n",
       "      <td>...</td>\n",
       "      <td>...</td>\n",
       "      <td>...</td>\n",
       "      <td>...</td>\n",
       "      <td>...</td>\n",
       "      <td>...</td>\n",
       "    </tr>\n",
       "    <tr>\n",
       "      <th>173607</th>\n",
       "      <td>Work of Words: Re-reading the poetry of Dylan ...</td>\n",
       "      <td>This project is the first to systematically ap...</td>\n",
       "      <td>UKRI</td>\n",
       "      <td>[systematically, apply, modern, critical, theo...</td>\n",
       "      <td>[systemat, appli, modern, critic, theori, bodi...</td>\n",
       "      <td>{poem, materi, systemat, pastor, hybrid, final...</td>\n",
       "    </tr>\n",
       "    <tr>\n",
       "      <th>173608</th>\n",
       "      <td>Surface rupture in the 12 May 2008 Sichuan ear...</td>\n",
       "      <td>The May earthquake in Sichuan Province  China ...</td>\n",
       "      <td>UKRI</td>\n",
       "      <td>[earthquake, sichuan, province, china, magnitu...</td>\n",
       "      <td>[earthquak, sichuan, provinc, china, magnitud,...</td>\n",
       "      <td>{damag, mm, long, work, mountain, view, orient...</td>\n",
       "    </tr>\n",
       "    <tr>\n",
       "      <th>173609</th>\n",
       "      <td>Influences on negotiating clinical need &amp;amp; ...</td>\n",
       "      <td>This study examines how patients and dentists ...</td>\n",
       "      <td>UKRI</td>\n",
       "      <td>[patients, dentists, decide, pursue, treatment...</td>\n",
       "      <td>[patient, dentist, decid, pursu, treatment, in...</td>\n",
       "      <td>{recommend, sampl, privat, patient, east, reac...</td>\n",
       "    </tr>\n",
       "    <tr>\n",
       "      <th>173610</th>\n",
       "      <td>DiRAC2: 100 Tflop/s HPC cluster procurement</td>\n",
       "      <td>This award covers the capital cost of procurin...</td>\n",
       "      <td>UKRI</td>\n",
       "      <td>[award, covers, capital, cost, procuring, tflo...</td>\n",
       "      <td>[award, cover, capit, cost, procur, tflop, hpc...</td>\n",
       "      <td>{procur, leicest, host, cost, univers, cluster...</td>\n",
       "    </tr>\n",
       "    <tr>\n",
       "      <th>173611</th>\n",
       "      <td>UK Involvement in LSST: Phase A</td>\n",
       "      <td>Summary   We propose a programme of work to en...</td>\n",
       "      <td>UKRI</td>\n",
       "      <td>[propose, programme, work, enable, uk, partici...</td>\n",
       "      <td>[propos, programm, work, enabl, uk, particip, ...</td>\n",
       "      <td>{hazard, tremend, code, dac, asteroid, impleme...</td>\n",
       "    </tr>\n",
       "  </tbody>\n",
       "</table>\n",
       "<p>173612 rows × 6 columns</p>\n",
       "</div>"
      ],
      "text/plain": [
       "                                                    title  \\\n",
       "0            Novel Treatments for Ocular Surface Diseases   \n",
       "1       SYNTHETIC GENE CIRCUITS FOR MONITORING T-CELL ...   \n",
       "2                      Training Program in Cancer Biology   \n",
       "3       Understanding the influence of bone-metastatic...   \n",
       "4       Modeling bladder cancer pathogenesis and tumor...   \n",
       "...                                                   ...   \n",
       "173607  Work of Words: Re-reading the poetry of Dylan ...   \n",
       "173608  Surface rupture in the 12 May 2008 Sichuan ear...   \n",
       "173609  Influences on negotiating clinical need &amp; ...   \n",
       "173610        DiRAC2: 100 Tflop/s HPC cluster procurement   \n",
       "173611                    UK Involvement in LSST: Phase A   \n",
       "\n",
       "                                                 abstract institution  \\\n",
       "0       PROJECT DESCRIPTION ABSTRACT Dry eye disease  ...         NIH   \n",
       "1       Chimeric antigen receptor  CAR  T cell therapy...         NIH   \n",
       "2       Project Summary The Icahn School of Medicine a...         NIH   \n",
       "3       While immunotherapies have made strides in the...         NIH   \n",
       "4       Project Summary Abstract   This new Program Pr...         NIH   \n",
       "...                                                   ...         ...   \n",
       "173607  This project is the first to systematically ap...        UKRI   \n",
       "173608  The May earthquake in Sichuan Province  China ...        UKRI   \n",
       "173609  This study examines how patients and dentists ...        UKRI   \n",
       "173610  This award covers the capital cost of procurin...        UKRI   \n",
       "173611  Summary   We propose a programme of work to en...        UKRI   \n",
       "\n",
       "                                                   corpus  \\\n",
       "0       [dry, eye, disease, ded, ocular, surface, dise...   \n",
       "1       [chimeric, antigen, receptor, car, cell, thera...   \n",
       "2       [icahn, school, medicine, mount, sinai, propos...   \n",
       "3       [immunotherapies, strides, treatment, cancers,...   \n",
       "4       [investigate, molecular, mechanisms, underlyin...   \n",
       "...                                                   ...   \n",
       "173607  [systematically, apply, modern, critical, theo...   \n",
       "173608  [earthquake, sichuan, province, china, magnitu...   \n",
       "173609  [patients, dentists, decide, pursue, treatment...   \n",
       "173610  [award, covers, capital, cost, procuring, tflo...   \n",
       "173611  [propose, programme, work, enable, uk, partici...   \n",
       "\n",
       "                                           corpus_stemmed  \\\n",
       "0       [dri, eye, diseas, ded, ocular, surfac, diseas...   \n",
       "1       [chimer, antigen, receptor, car, cell, therapi...   \n",
       "2       [icahn, school, medicin, mount, sinai, propos,...   \n",
       "3       [immunotherapi, stride, treatment, cancer, cas...   \n",
       "4       [investig, molecular, mechan, underli, pathoge...   \n",
       "...                                                   ...   \n",
       "173607  [systemat, appli, modern, critic, theori, bodi...   \n",
       "173608  [earthquak, sichuan, provinc, china, magnitud,...   \n",
       "173609  [patient, dentist, decid, pursu, treatment, in...   \n",
       "173610  [award, cover, capit, cost, procur, tflop, hpc...   \n",
       "173611  [propos, programm, work, enabl, uk, particip, ...   \n",
       "\n",
       "                                                corpusSet  \n",
       "0       {long, condit, vitro, reduc, life, ocular, opp...  \n",
       "1       {type, failur, independ, blockad, respond, pla...  \n",
       "2       {confer, outstand, remark, establish, document...  \n",
       "3       {driven, immunocompet, castrat, microenvironme...  \n",
       "4       {patholog, interrel, haa, maintain, chromatin,...  \n",
       "...                                                   ...  \n",
       "173607  {poem, materi, systemat, pastor, hybrid, final...  \n",
       "173608  {damag, mm, long, work, mountain, view, orient...  \n",
       "173609  {recommend, sampl, privat, patient, east, reac...  \n",
       "173610  {procur, leicest, host, cost, univers, cluster...  \n",
       "173611  {hazard, tremend, code, dac, asteroid, impleme...  \n",
       "\n",
       "[173612 rows x 6 columns]"
      ]
     },
     "execution_count": 4,
     "metadata": {},
     "output_type": "execute_result"
    }
   ],
   "source": [
    "pp.word_stemmer(getSet = True)"
   ]
  },
  {
   "cell_type": "code",
   "execution_count": 5,
   "id": "ae39b164-7434-41b1-9e74-50efbc09cd1a",
   "metadata": {},
   "outputs": [
    {
     "name": "stdout",
     "output_type": "stream",
     "text": [
      "Stored 'df_stemmed' (DataFrame)\n"
     ]
    }
   ],
   "source": [
    "df_stemmed = pp.dataset\n",
    "%store df_stemmed"
   ]
  },
  {
   "cell_type": "code",
   "execution_count": 6,
   "id": "7ea95a13-180f-4b1d-bb40-e1c65fc86728",
   "metadata": {},
   "outputs": [],
   "source": [
    "all_corpus = pp.getAllCorpus(colname = 'corpus_stemmed')"
   ]
  },
  {
   "cell_type": "code",
   "execution_count": 7,
   "id": "9bccdac8-69cd-4904-90e0-9d7d56bdbbbb",
   "metadata": {},
   "outputs": [
    {
     "data": {
      "text/plain": [
       "35214159"
      ]
     },
     "execution_count": 7,
     "metadata": {},
     "output_type": "execute_result"
    }
   ],
   "source": [
    "len(all_corpus)"
   ]
  },
  {
   "cell_type": "code",
   "execution_count": 8,
   "id": "0e73904f-7922-429b-9379-6b4654c0e80b",
   "metadata": {},
   "outputs": [
    {
     "data": {
      "text/plain": [
       "246256"
      ]
     },
     "execution_count": 8,
     "metadata": {},
     "output_type": "execute_result"
    }
   ],
   "source": [
    "len(set(all_corpus))"
   ]
  },
  {
   "cell_type": "markdown",
   "id": "b09d9067-05a3-49d8-9942-5929d7f35a4e",
   "metadata": {},
   "source": [
    "# Test"
   ]
  },
  {
   "cell_type": "code",
   "execution_count": 18,
   "id": "2cc22a2a-7354-4c37-a2a4-8275a94e3a0a",
   "metadata": {},
   "outputs": [
    {
     "name": "stderr",
     "output_type": "stream",
     "text": [
      "100%|███████████████████████████████████| 80000/80000 [5:44:58<00:00,  3.86it/s]\n"
     ]
    }
   ],
   "source": [
    "# unimpWords1 = []\n",
    "# for word in tqdm(list(set(all_corpus))[0:80000]):\n",
    "#     occur = mp.getWordOccurance(word)\n",
    "#     if occur < 0.001 or occur > 0.8:\n",
    "#         unimpWords1.append(word)"
   ]
  },
  {
   "cell_type": "code",
   "execution_count": 19,
   "id": "881c6fd7-8831-461f-803a-e9b4228fb49e",
   "metadata": {},
   "outputs": [
    {
     "name": "stdout",
     "output_type": "stream",
     "text": [
      "Stored 'unimpWords1' (list)\n"
     ]
    }
   ],
   "source": [
    "# %store unimpWords1"
   ]
  },
  {
   "cell_type": "code",
   "execution_count": null,
   "id": "62179034-595b-4248-8b7d-94dce5e99079",
   "metadata": {},
   "outputs": [],
   "source": [
    "# %store -r unimpWords2\n",
    "# %store -r unimpWords3"
   ]
  },
  {
   "cell_type": "markdown",
   "id": "4a370171-11e9-4e82-97be-53ddd7557132",
   "metadata": {},
   "source": [
    "# LDA Model Creation"
   ]
  },
  {
   "cell_type": "code",
   "execution_count": 2,
   "id": "93e73459-2fa9-4787-9579-bb8aa3049393",
   "metadata": {},
   "outputs": [],
   "source": [
    "# %store -r df_stemmed"
   ]
  },
  {
   "cell_type": "code",
   "execution_count": 3,
   "id": "a109e8f1-2cb8-45e9-94a9-cad0871c4785",
   "metadata": {},
   "outputs": [],
   "source": [
    "pp = nlp_ldamodel.preprocessor(dataset = df_stemmed)"
   ]
  },
  {
   "cell_type": "code",
   "execution_count": 4,
   "id": "5f9f36a7-330c-4a74-bea4-cb86daf10905",
   "metadata": {},
   "outputs": [],
   "source": [
    "words, dic, corpus = pp.get_corpus()"
   ]
  },
  {
   "cell_type": "code",
   "execution_count": 5,
   "id": "5045050e-727b-4169-8c0e-191f80372285",
   "metadata": {},
   "outputs": [],
   "source": [
    "m = nlp_ldamodel(words, dic, corpus)"
   ]
  },
  {
   "cell_type": "code",
   "execution_count": null,
   "id": "4a74cd08-74de-4d5c-8649-0416b310bb56",
   "metadata": {},
   "outputs": [],
   "source": [
    "m.LDA_Model(30, 100)\n",
    "m.LDA_Visualisation()"
   ]
  },
  {
   "cell_type": "code",
   "execution_count": null,
   "id": "6a84f66c-a3b7-4e52-947b-004a08e59da5",
   "metadata": {},
   "outputs": [],
   "source": [
    "m.LDA_Model(18, 100)\n",
    "m.LDA_Visualisation()"
   ]
  },
  {
   "cell_type": "code",
   "execution_count": null,
   "id": "35d7ce24-89a7-4942-8c9f-5541c7069ce9",
   "metadata": {},
   "outputs": [],
   "source": [
    "themes = [\n",
    "    \"graduate education\",\n",
    "    \"sensor techonology\",\n",
    "    \"Economics\"\n",
    "    \"immunology\",\n",
    "    \"materials science\",\n",
    "    \"universal field theory (phyics)\",\n",
    "    \"Protein Structure\",\n",
    "    \"population genetics\",\n",
    "    \"brain structure and disease\",\n",
    "    \"heart disease\",\n",
    "    \"social science and welfare\",\n",
    "    \"environmental policy\",\n",
    "    \"health / oncology\",\n",
    "    \"Epidemiology\",\n",
    "    \"carbon markets\",\n",
    "    \"soil biology\",\n",
    "]"
   ]
  },
  {
   "cell_type": "code",
   "execution_count": 8,
   "id": "835f1633-a389-4637-9d6f-1380317c4b70",
   "metadata": {},
   "outputs": [],
   "source": [
    "# themes = [\n",
    "#     \"graduate education\",\n",
    "#     \"sensor techonology\",\n",
    "#     \"Economics\"\n",
    "#     \"immunology\",\n",
    "#     \"materials science\",\n",
    "#     \"universal field theory (phyics)\",\n",
    "#     \"Protein Structure\",\n",
    "#     \"population genetics\",\n",
    "#     \"brain structure and disease\",\n",
    "#     \"heart disease\",\n",
    "#     \"social science and welfare\",\n",
    "#     \"environmental policy\",\n",
    "#     \"health / oncology\",\n",
    "#     \"Epidemiology\",\n",
    "#     \"carbon markets\",\n",
    "#     \"soil biology\",\n",
    "# ]"
   ]
  },
  {
   "cell_type": "code",
   "execution_count": 9,
   "id": "7f02ca25-46f5-4700-8b52-480b3b81ed19",
   "metadata": {},
   "outputs": [],
   "source": [
    "mp.add_themes(themes=themes)"
   ]
  },
  {
   "cell_type": "markdown",
   "id": "067e1ba1-1320-4a56-b012-ef49b20a3bdd",
   "metadata": {},
   "source": [
    "# LDA Model Prediction"
   ]
  },
  {
   "cell_type": "code",
   "execution_count": 11,
   "id": "907b8d51-c8ba-4482-9187-59f50c78a4cd",
   "metadata": {},
   "outputs": [],
   "source": [
    "#  predicting new text which is in text dataframe  \n",
    "unseen_abstract = \"\"\"\n",
    "MAP aims to provide a comparative approach on the use of interdisciplinary arts-based practices for peacebuilding in Kyrgyzstan, Rwanda, Indonesia and Nepal. \n",
    "MAP has the overall goals of first, influencing curricula and approaches to working with in- and out-of-school youth and second, creating structures and modes of \n",
    "communication between youth and policymakers from the local to global. Each country has different histories and approaches to peacebuilding, yet all four have a \n",
    "rich tradition of using cultural forms for dialogue. The selection of the four countries will enable us to explore how pathways to peace may be shaped by diverse \n",
    "political, cultural, religious and linguistic factors, as well as the crosscutting issues of gender and intersecting inequalities, environments and the exclusion \n",
    "of children and youth from policymaking processes. \n",
    "\n",
    "MAP will operate across three core components: a) project design and delivery; b) research; and c) arts-based practice that run throughout three strands of activities. \n",
    "Strand One will involve scoping visits, literature reviews, community mapping and training of adult and child/youth facilitators in arts-based methods for dialogue and research.\n",
    "During Strand Two, up to 3 small grants of &amp;pound;5,000 will be awarded in each of the four countries for child/youth and adult MAP trainers to work alongside CSOs to \n",
    "develop projects that address local issues that may incorporate (but are not limited to): child rights-based decision-making; child protection and peacebuilding. \n",
    "Up to 2 grants of &amp;pound;29,500 in each of the four countries for youth to work alongside policy-focused organisations to explore arts-based communication structures. \n",
    "Up to 4 large grants of &amp;pound;100,000 in each of the four countries for researchers of any level and partnering organisations to design and deliver effective monitoring, \n",
    "evaluation and impact delivery alongside the small and mid-size grant awardees. One additional large grant of &amp;pound;100,000 will be awarded in the final two years of the \n",
    "project to synthesize findings, drawing out similarities and divergences across the four countries and to consider questions of scalability and transferability, in order to \n",
    "inform youth policy at an international level. Strand Three will involve the coordination of community-based dialogue groups and MAP Clubs to inform policy and establish \n",
    "communication structures alongside synthesis and dissemination. The project will be working alongside cultural organisations, youth-serving CSOs, conflict and peace building \n",
    "CSOs, government institutions and ministries, higher education institutions, conflict management, and psychosocial wellbeing organisations. In this way, the project promises \n",
    "diverse impact at local, national and international levels. \n",
    "\n",
    "We will explore the following questions:\n",
    "\n",
    "1. How can different art forms be used to co-design, deliver and evaluate peacebuilding curricula and other approaches for working with children and youth to address local conflict issues?\n",
    "2. How might cultural forms be used for dialogue with and between children and youth, educators and policy makers to advance peacebuilding through a local and indigenous approach?\n",
    "3. How might psychosocial support, including local healing practices, be better integrated within peacebuilding approaches by using the arts to promote the wellbeing of children and youth, especially \n",
    "those from marginalised groups? \n",
    "4. How can cultural forms be incorporated into child- and youth-led participatory action research methodologies and adapted for the purposes of the design, undertaking and delivery of interdisciplinary \n",
    "projects in diverse social, political and cultural contexts?\n",
    "5. How might these cultural forms be used to create alternative spaces and communication structures for peacebuilding approaches and curricula development to inform local, national and international approaches to peacebuilding.\n",
    "\"\"\""
   ]
  },
  {
   "cell_type": "code",
   "execution_count": 12,
   "id": "28f69b2c-d5f5-4739-aff9-8a1673c9a0d9",
   "metadata": {},
   "outputs": [
    {
     "data": {
      "text/plain": [
       "{'carbon markets': 0.5483021,\n",
       " 'environmental policy': 0.25735915,\n",
       " 'Protein Structure': 0.19184269}"
      ]
     },
     "execution_count": 12,
     "metadata": {},
     "output_type": "execute_result"
    }
   ],
   "source": [
    "mp.topic_prediction(unseen_abstract)"
   ]
  },
  {
   "cell_type": "code",
   "execution_count": null,
   "id": "46d8e4ed-ad87-4b4d-807d-9b44fedfcd8c",
   "metadata": {},
   "outputs": [],
   "source": []
  },
  {
   "cell_type": "code",
   "execution_count": null,
   "id": "79e37357-81f8-4413-a4e0-138d50ece28d",
   "metadata": {},
   "outputs": [],
   "source": []
  },
  {
   "cell_type": "markdown",
   "id": "057e75b0-880e-480e-b09b-5a8e422c4652",
   "metadata": {},
   "source": [
    "# Topic Selection"
   ]
  },
  {
   "cell_type": "code",
   "execution_count": 13,
   "id": "c52c598e-d8a3-4f2b-b7a0-5fb08143a130",
   "metadata": {},
   "outputs": [
    {
     "data": {
      "text/plain": [
       "Text(0, 0.5, 'C_V value')"
      ]
     },
     "execution_count": 13,
     "metadata": {},
     "output_type": "execute_result"
    },
    {
     "data": {
      "image/png": "[encoded data removed]",
      "text/plain": [
       "<Figure size 1080x720 with 1 Axes>"
      ]
     },
     "metadata": {
      "needs_background": "light"
     },
     "output_type": "display_data"
    }
   ],
   "source": [
    "fig, ax = plt.subplots(figsize=(15, 10))\n",
    "for elem in [26, 80, 189, 204, 238, 239, 254, 257]:\n",
    "    grid = pd.read_csv(\"../Results/topicCVs_{}.csv\".format(elem))\n",
    "    ax.plot(grid.num_topics, grid.c_v)\n",
    "    ax.scatter(grid.num_topics, grid.c_v)\n",
    "ax.tick_params(axis='both', labelsize=15)\n",
    "ax.set_xlabel('Number of Topic', fontsize=16)\n",
    "ax.set_ylabel(\"C_V value\", fontsize=16)"
   ]
  },
  {
   "cell_type": "code",
   "execution_count": null,
   "id": "31f45ea1-2a87-41f7-b642-e49f82f90fb8",
   "metadata": {},
   "outputs": [],
   "source": [
    "def avgTopicSelectionPlot(docNumber = [26, 80, 189, 204, 238, 239, 254, 257]):\n",
    "    CVs = np.array([0] * 30)\n",
    "    for elem in docNumber:\n",
    "        grid = pd.read_csv(\"../Results/topicCVs_{}.csv\".format(elem))\n",
    "        CVs = CVs + np.array(grid.c_v)\n",
    "    Avg_CVs = CVs / np.array([len(docNumber)] * 30)\n",
    "    plt.figure(figsize=(15, 10))\n",
    "    plt.plot(range(5,35), Avg_CVs)\n",
    "    plt.scatter(range(5,35), Avg_CVs)\n",
    "    plt.tick_params(axis='both', labelsize=15)\n",
    "    plt.xlabel('Number of Topic', fontsize = 16)\n",
    "    plt.ylabel('C_V value', fontsize = 16)\n",
    "    plt.title('Total Probability of Top 10 Words in each Topic', fontsize = 16)"
   ]
  }
 ],
 "metadata": {
  "kernelspec": {
   "display_name": "Python 3 (ipykernel)",
   "language": "python",
   "name": "python3"
  },
  "language_info": {
   "codemirror_mode": {
    "name": "ipython",
    "version": 3
   },
   "file_extension": ".py",
   "mimetype": "text/x-python",
   "name": "python",
   "nbconvert_exporter": "python",
   "pygments_lexer": "ipython3",
   "version": "3.8.8"
  }
 },
 "nbformat": 4,
 "nbformat_minor": 5
}
