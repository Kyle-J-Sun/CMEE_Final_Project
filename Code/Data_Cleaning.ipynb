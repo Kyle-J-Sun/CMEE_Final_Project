{
 "cells": [
  {
   "cell_type": "markdown",
   "id": "8352a6be-e3a4-4073-a702-e14abdda1733",
   "metadata": {},
   "source": [
    "# Data Processing"
   ]
  },
  {
   "cell_type": "code",
   "execution_count": 1,
   "id": "41229658-9052-4699-8c5a-917cca2a99a1",
   "metadata": {},
   "outputs": [],
   "source": [
    "import pandas as pd\n",
    "import numpy as np\n",
    "import os\n",
    "import re\n",
    "from tool_functions_copy import *\n",
    "\n",
    "import warnings\n",
    "import sys\n",
    "warnings.filterwarnings('ignore')  # To ignore all warnings that arise here to enhance clarity"
   ]
  },
  {
   "cell_type": "markdown",
   "id": "9cc0bc2c-f37e-43a0-8687-c63b884164c4",
   "metadata": {},
   "source": [
    "# Data Extraction"
   ]
  },
  {
   "cell_type": "code",
   "execution_count": 2,
   "id": "7111b579-5610-4af6-94ec-119f4697d880",
   "metadata": {},
   "outputs": [],
   "source": [
    "funding = MySQLPipline(database='funding')\n",
    "NIHdata = funding.NIHDataset()\n",
    "NSFdata = funding.NSFDataset()\n",
    "ERCdata = funding.ERCDataset()\n",
    "UKRIdata = funding.UKRIDataset()\n",
    "funding.close_Conn()\n",
    "\n",
    "df1 = pd.concat([NIHdata[[\"title\", \"abstract\"]],\n",
    "                ERCdata[[\"title\", \"abstract\"]]])\n",
    "df2 = pd.concat([NSFdata[[\"title\", \"abstract\"]],\n",
    "                UKRIdata[[\"title\", \"abstract\"]]])\n",
    "df = pd.concat([df1, df2])\n",
    "df.reset_index(drop=True, inplace=True)"
   ]
  },
  {
   "cell_type": "markdown",
   "id": "6c3aac13-be83-4d07-8280-bc4de6f04b72",
   "metadata": {},
   "source": [
    "# Data Cleaning"
   ]
  },
  {
   "cell_type": "code",
   "execution_count": 3,
   "id": "e61353e7-bbff-418e-9b17-c817a523f1a7",
   "metadata": {},
   "outputs": [],
   "source": [
    "mp = modelProcessor(dat = df)"
   ]
  },
  {
   "cell_type": "code",
   "execution_count": 4,
   "id": "f03d82cc-2b37-4868-85aa-23c5c9e70542",
   "metadata": {},
   "outputs": [
    {
     "name": "stdout",
     "output_type": "stream",
     "text": [
      "This may take long time to run...\n",
      "True\n",
      "Finished! It takes 299.5411169528961 seconds to run.\n"
     ]
    },
    {
     "data": {
      "text/html": [
       "<div>\n",
       "<style scoped>\n",
       "    .dataframe tbody tr th:only-of-type {\n",
       "        vertical-align: middle;\n",
       "    }\n",
       "\n",
       "    .dataframe tbody tr th {\n",
       "        vertical-align: top;\n",
       "    }\n",
       "\n",
       "    .dataframe thead th {\n",
       "        text-align: right;\n",
       "    }\n",
       "</style>\n",
       "<table border=\"1\" class=\"dataframe\">\n",
       "  <thead>\n",
       "    <tr style=\"text-align: right;\">\n",
       "      <th></th>\n",
       "      <th>title</th>\n",
       "      <th>abstract</th>\n",
       "    </tr>\n",
       "  </thead>\n",
       "  <tbody>\n",
       "    <tr>\n",
       "      <th>0</th>\n",
       "      <td>Novel Treatments for Ocular Surface Diseases</td>\n",
       "      <td>PROJECT DESCRIPTIONABSTRACT Dry eye disease DE...</td>\n",
       "    </tr>\n",
       "    <tr>\n",
       "      <th>1</th>\n",
       "      <td>SYNTHETIC GENE CIRCUITS FOR MONITORING T-CELL ...</td>\n",
       "      <td>Chimeric antigen receptor CAR Tcell therapy ha...</td>\n",
       "    </tr>\n",
       "    <tr>\n",
       "      <th>2</th>\n",
       "      <td>Training Program in Cancer Biology</td>\n",
       "      <td>Project Summary The Icahn School of Medicine a...</td>\n",
       "    </tr>\n",
       "    <tr>\n",
       "      <th>3</th>\n",
       "      <td>Understanding the influence of bone-metastatic...</td>\n",
       "      <td>While immunotherapies have made strides in the...</td>\n",
       "    </tr>\n",
       "    <tr>\n",
       "      <th>4</th>\n",
       "      <td>Modeling bladder cancer pathogenesis and tumor...</td>\n",
       "      <td>Project SummaryAbstract This new Program Proje...</td>\n",
       "    </tr>\n",
       "    <tr>\n",
       "      <th>...</th>\n",
       "      <td>...</td>\n",
       "      <td>...</td>\n",
       "    </tr>\n",
       "    <tr>\n",
       "      <th>233451</th>\n",
       "      <td>University of Northumbria at Newcastle and Smy...</td>\n",
       "      <td>To develop a set of Machine Learning tools tha...</td>\n",
       "    </tr>\n",
       "    <tr>\n",
       "      <th>233452</th>\n",
       "      <td>Bbsrc next generation bioprocessing studentshi...</td>\n",
       "      <td>Doctoral Training Partnerships a range of post...</td>\n",
       "    </tr>\n",
       "    <tr>\n",
       "      <th>233453</th>\n",
       "      <td>UK Involvement in LSST: Phase A</td>\n",
       "      <td>Summary We propose a programme of work to enab...</td>\n",
       "    </tr>\n",
       "    <tr>\n",
       "      <th>233454</th>\n",
       "      <td>University of Ulster and Rapid International L...</td>\n",
       "      <td>To design and develop the next generation conc...</td>\n",
       "    </tr>\n",
       "    <tr>\n",
       "      <th>233455</th>\n",
       "      <td>Lowering carbon and chemical in buildings via ...</td>\n",
       "      <td>Recognising the waterenergycarbon nexus Aqua w...</td>\n",
       "    </tr>\n",
       "  </tbody>\n",
       "</table>\n",
       "<p>233456 rows × 2 columns</p>\n",
       "</div>"
      ],
      "text/plain": [
       "                                                    title  \\\n",
       "0            Novel Treatments for Ocular Surface Diseases   \n",
       "1       SYNTHETIC GENE CIRCUITS FOR MONITORING T-CELL ...   \n",
       "2                      Training Program in Cancer Biology   \n",
       "3       Understanding the influence of bone-metastatic...   \n",
       "4       Modeling bladder cancer pathogenesis and tumor...   \n",
       "...                                                   ...   \n",
       "233451  University of Northumbria at Newcastle and Smy...   \n",
       "233452  Bbsrc next generation bioprocessing studentshi...   \n",
       "233453                    UK Involvement in LSST: Phase A   \n",
       "233454  University of Ulster and Rapid International L...   \n",
       "233455  Lowering carbon and chemical in buildings via ...   \n",
       "\n",
       "                                                 abstract  \n",
       "0       PROJECT DESCRIPTIONABSTRACT Dry eye disease DE...  \n",
       "1       Chimeric antigen receptor CAR Tcell therapy ha...  \n",
       "2       Project Summary The Icahn School of Medicine a...  \n",
       "3       While immunotherapies have made strides in the...  \n",
       "4       Project SummaryAbstract This new Program Proje...  \n",
       "...                                                   ...  \n",
       "233451  To develop a set of Machine Learning tools tha...  \n",
       "233452  Doctoral Training Partnerships a range of post...  \n",
       "233453  Summary We propose a programme of work to enab...  \n",
       "233454  To design and develop the next generation conc...  \n",
       "233455  Recognising the waterenergycarbon nexus Aqua w...  \n",
       "\n",
       "[233456 rows x 2 columns]"
      ]
     },
     "execution_count": 4,
     "metadata": {},
     "output_type": "execute_result"
    }
   ],
   "source": [
    "mp.remove_abstract(regex=r'Abstracts are not currently available in GtR').reset_index(drop = True, inplace = True)\n",
    "mp.remove_abstract(regex=r'No abstract available').reset_index(drop = True, inplace = True)\n",
    "mp.clean_text()\n",
    "mp.data = mp.data[~pd.isna(mp.data.title)]"
   ]
  },
  {
   "cell_type": "code",
   "execution_count": null,
   "id": "e5d41c1f-6971-4293-bb8f-d417bde3d8db",
   "metadata": {},
   "outputs": [],
   "source": [
    "df.to_csv(\"../Data/cleaned_data.csv\", index = False, encoding = \"utf-8-sig\")"
   ]
  },
  {
   "cell_type": "code",
   "execution_count": null,
   "id": "a53253ae-fbe1-4b48-9f8d-9dcb4530513a",
   "metadata": {},
   "outputs": [],
   "source": []
  },
  {
   "cell_type": "markdown",
   "id": "ff1ff7c0-6be8-49f1-8d88-dd861a86d576",
   "metadata": {},
   "source": [
    "# Corpus Selection"
   ]
  },
  {
   "cell_type": "code",
   "execution_count": 1,
   "id": "5f08239b-da8b-428a-90e5-3303fd13f4fc",
   "metadata": {},
   "outputs": [],
   "source": [
    "# Import Packages\n",
    "from imp import reload\n",
    "import pandas as pd\n",
    "import numpy as np\n",
    "import os\n",
    "import matplotlib.pyplot as plt\n",
    "from tool_functions import *\n",
    "import warnings\n",
    "warnings.filterwarnings('ignore')  # To ignore all warnings that arise here to enhance clarity"
   ]
  },
  {
   "cell_type": "code",
   "execution_count": 2,
   "id": "f793bfe8-7bcd-4bcb-ad92-bd46a7ca33de",
   "metadata": {},
   "outputs": [],
   "source": [
    "%store -r df_stemmed"
   ]
  },
  {
   "cell_type": "code",
   "execution_count": 3,
   "id": "168a8a93-cf51-43bf-9301-8931d77cce93",
   "metadata": {},
   "outputs": [
    {
     "data": {
      "text/html": [
       "<div>\n",
       "<style scoped>\n",
       "    .dataframe tbody tr th:only-of-type {\n",
       "        vertical-align: middle;\n",
       "    }\n",
       "\n",
       "    .dataframe tbody tr th {\n",
       "        vertical-align: top;\n",
       "    }\n",
       "\n",
       "    .dataframe thead th {\n",
       "        text-align: right;\n",
       "    }\n",
       "</style>\n",
       "<table border=\"1\" class=\"dataframe\">\n",
       "  <thead>\n",
       "    <tr style=\"text-align: right;\">\n",
       "      <th></th>\n",
       "      <th>title</th>\n",
       "      <th>abstract</th>\n",
       "      <th>institution</th>\n",
       "      <th>corpus</th>\n",
       "      <th>corpus_stemmed</th>\n",
       "      <th>corpusSet</th>\n",
       "    </tr>\n",
       "  </thead>\n",
       "  <tbody>\n",
       "    <tr>\n",
       "      <th>0</th>\n",
       "      <td>Novel Treatments for Ocular Surface Diseases</td>\n",
       "      <td>PROJECT DESCRIPTION ABSTRACT Dry eye disease  ...</td>\n",
       "      <td>NIH</td>\n",
       "      <td>[dry, eye, disease, ded, ocular, surface, dise...</td>\n",
       "      <td>[dri, eye, diseas, ded, ocular, surfac, diseas...</td>\n",
       "      <td>{amelior, innov, relev, exposur, ophthalm, fou...</td>\n",
       "    </tr>\n",
       "    <tr>\n",
       "      <th>1</th>\n",
       "      <td>SYNTHETIC GENE CIRCUITS FOR MONITORING T-CELL ...</td>\n",
       "      <td>Chimeric antigen receptor  CAR  T cell therapy...</td>\n",
       "      <td>NIH</td>\n",
       "      <td>[chimeric, antigen, receptor, car, cell, thera...</td>\n",
       "      <td>[chimer, antigen, receptor, car, cell, therapi...</td>\n",
       "      <td>{synthet, lost, input, mentor, cellular, resou...</td>\n",
       "    </tr>\n",
       "    <tr>\n",
       "      <th>2</th>\n",
       "      <td>Training Program in Cancer Biology</td>\n",
       "      <td>Project Summary The Icahn School of Medicine a...</td>\n",
       "      <td>NIH</td>\n",
       "      <td>[icahn, school, medicine, mount, sinai, propos...</td>\n",
       "      <td>[icahn, school, medicin, mount, sinai, propos,...</td>\n",
       "      <td>{select, member, account, process, nci, mentor...</td>\n",
       "    </tr>\n",
       "    <tr>\n",
       "      <th>3</th>\n",
       "      <td>Understanding the influence of bone-metastatic...</td>\n",
       "      <td>While immunotherapies have made strides in the...</td>\n",
       "      <td>NIH</td>\n",
       "      <td>[immunotherapies, strides, treatment, cancers,...</td>\n",
       "      <td>[immunotherapi, stride, treatment, cancer, cas...</td>\n",
       "      <td>{factor, driven, focu, found, system, costimul...</td>\n",
       "    </tr>\n",
       "    <tr>\n",
       "      <th>4</th>\n",
       "      <td>Modeling bladder cancer pathogenesis and tumor...</td>\n",
       "      <td>Project Summary Abstract   This new Program Pr...</td>\n",
       "      <td>NIH</td>\n",
       "      <td>[investigate, molecular, mechanisms, underlyin...</td>\n",
       "      <td>[investig, molecular, mechan, underli, pathoge...</td>\n",
       "      <td>{patholog, progress, histopatholog, gemm, gene...</td>\n",
       "    </tr>\n",
       "    <tr>\n",
       "      <th>...</th>\n",
       "      <td>...</td>\n",
       "      <td>...</td>\n",
       "      <td>...</td>\n",
       "      <td>...</td>\n",
       "      <td>...</td>\n",
       "      <td>...</td>\n",
       "    </tr>\n",
       "    <tr>\n",
       "      <th>173607</th>\n",
       "      <td>Work of Words: Re-reading the poetry of Dylan ...</td>\n",
       "      <td>This project is the first to systematically ap...</td>\n",
       "      <td>UKRI</td>\n",
       "      <td>[systematically, apply, modern, critical, theo...</td>\n",
       "      <td>[systemat, appli, modern, critic, theori, bodi...</td>\n",
       "      <td>{visual, war, pastor, form, rewrit, condit, fi...</td>\n",
       "    </tr>\n",
       "    <tr>\n",
       "      <th>173608</th>\n",
       "      <td>Surface rupture in the 12 May 2008 Sichuan ear...</td>\n",
       "      <td>The May earthquake in Sichuan Province  China ...</td>\n",
       "      <td>UKRI</td>\n",
       "      <td>[earthquake, sichuan, province, china, magnitu...</td>\n",
       "      <td>[earthquak, sichuan, provinc, china, magnitud,...</td>\n",
       "      <td>{lost, orient, directli, infrastructur, eros, ...</td>\n",
       "    </tr>\n",
       "    <tr>\n",
       "      <th>173609</th>\n",
       "      <td>Influences on negotiating clinical need &amp;amp; ...</td>\n",
       "      <td>This study examines how patients and dentists ...</td>\n",
       "      <td>UKRI</td>\n",
       "      <td>[patients, dentists, decide, pursue, treatment...</td>\n",
       "      <td>[patient, dentist, decid, pursu, treatment, in...</td>\n",
       "      <td>{patient, paid, north, treatment, costli, clin...</td>\n",
       "    </tr>\n",
       "    <tr>\n",
       "      <th>173610</th>\n",
       "      <td>DiRAC2: 100 Tflop/s HPC cluster procurement</td>\n",
       "      <td>This award covers the capital cost of procurin...</td>\n",
       "      <td>UKRI</td>\n",
       "      <td>[award, covers, capital, cost, procuring, tflo...</td>\n",
       "      <td>[award, cover, capit, cost, procur, tflop, hpc...</td>\n",
       "      <td>{cluster, procur, dirac, tflop, leicest, part,...</td>\n",
       "    </tr>\n",
       "    <tr>\n",
       "      <th>173611</th>\n",
       "      <td>UK Involvement in LSST: Phase A</td>\n",
       "      <td>Summary   We propose a programme of work to en...</td>\n",
       "      <td>UKRI</td>\n",
       "      <td>[propose, programme, work, enable, uk, partici...</td>\n",
       "      <td>[propos, programm, work, enabl, uk, particip, ...</td>\n",
       "      <td>{product, current, resourc, mou, focu, hazard,...</td>\n",
       "    </tr>\n",
       "  </tbody>\n",
       "</table>\n",
       "<p>173612 rows × 6 columns</p>\n",
       "</div>"
      ],
      "text/plain": [
       "                                                    title  \\\n",
       "0            Novel Treatments for Ocular Surface Diseases   \n",
       "1       SYNTHETIC GENE CIRCUITS FOR MONITORING T-CELL ...   \n",
       "2                      Training Program in Cancer Biology   \n",
       "3       Understanding the influence of bone-metastatic...   \n",
       "4       Modeling bladder cancer pathogenesis and tumor...   \n",
       "...                                                   ...   \n",
       "173607  Work of Words: Re-reading the poetry of Dylan ...   \n",
       "173608  Surface rupture in the 12 May 2008 Sichuan ear...   \n",
       "173609  Influences on negotiating clinical need &amp; ...   \n",
       "173610        DiRAC2: 100 Tflop/s HPC cluster procurement   \n",
       "173611                    UK Involvement in LSST: Phase A   \n",
       "\n",
       "                                                 abstract institution  \\\n",
       "0       PROJECT DESCRIPTION ABSTRACT Dry eye disease  ...         NIH   \n",
       "1       Chimeric antigen receptor  CAR  T cell therapy...         NIH   \n",
       "2       Project Summary The Icahn School of Medicine a...         NIH   \n",
       "3       While immunotherapies have made strides in the...         NIH   \n",
       "4       Project Summary Abstract   This new Program Pr...         NIH   \n",
       "...                                                   ...         ...   \n",
       "173607  This project is the first to systematically ap...        UKRI   \n",
       "173608  The May earthquake in Sichuan Province  China ...        UKRI   \n",
       "173609  This study examines how patients and dentists ...        UKRI   \n",
       "173610  This award covers the capital cost of procurin...        UKRI   \n",
       "173611  Summary   We propose a programme of work to en...        UKRI   \n",
       "\n",
       "                                                   corpus  \\\n",
       "0       [dry, eye, disease, ded, ocular, surface, dise...   \n",
       "1       [chimeric, antigen, receptor, car, cell, thera...   \n",
       "2       [icahn, school, medicine, mount, sinai, propos...   \n",
       "3       [immunotherapies, strides, treatment, cancers,...   \n",
       "4       [investigate, molecular, mechanisms, underlyin...   \n",
       "...                                                   ...   \n",
       "173607  [systematically, apply, modern, critical, theo...   \n",
       "173608  [earthquake, sichuan, province, china, magnitu...   \n",
       "173609  [patients, dentists, decide, pursue, treatment...   \n",
       "173610  [award, covers, capital, cost, procuring, tflo...   \n",
       "173611  [propose, programme, work, enable, uk, partici...   \n",
       "\n",
       "                                           corpus_stemmed  \\\n",
       "0       [dri, eye, diseas, ded, ocular, surfac, diseas...   \n",
       "1       [chimer, antigen, receptor, car, cell, therapi...   \n",
       "2       [icahn, school, medicin, mount, sinai, propos,...   \n",
       "3       [immunotherapi, stride, treatment, cancer, cas...   \n",
       "4       [investig, molecular, mechan, underli, pathoge...   \n",
       "...                                                   ...   \n",
       "173607  [systemat, appli, modern, critic, theori, bodi...   \n",
       "173608  [earthquak, sichuan, provinc, china, magnitud,...   \n",
       "173609  [patient, dentist, decid, pursu, treatment, in...   \n",
       "173610  [award, cover, capit, cost, procur, tflop, hpc...   \n",
       "173611  [propos, programm, work, enabl, uk, particip, ...   \n",
       "\n",
       "                                                corpusSet  \n",
       "0       {amelior, innov, relev, exposur, ophthalm, fou...  \n",
       "1       {synthet, lost, input, mentor, cellular, resou...  \n",
       "2       {select, member, account, process, nci, mentor...  \n",
       "3       {factor, driven, focu, found, system, costimul...  \n",
       "4       {patholog, progress, histopatholog, gemm, gene...  \n",
       "...                                                   ...  \n",
       "173607  {visual, war, pastor, form, rewrit, condit, fi...  \n",
       "173608  {lost, orient, directli, infrastructur, eros, ...  \n",
       "173609  {patient, paid, north, treatment, costli, clin...  \n",
       "173610  {cluster, procur, dirac, tflop, leicest, part,...  \n",
       "173611  {product, current, resourc, mou, focu, hazard,...  \n",
       "\n",
       "[173612 rows x 6 columns]"
      ]
     },
     "execution_count": 3,
     "metadata": {},
     "output_type": "execute_result"
    }
   ],
   "source": [
    "df_stemmed.reset_index(drop = True, inplace = True)\n",
    "df_stemmed"
   ]
  },
  {
   "cell_type": "code",
   "execution_count": 4,
   "id": "f3819416-f6b1-4997-8ea0-2e72391ba886",
   "metadata": {},
   "outputs": [],
   "source": [
    "mp3 = modelProcessor(dat = df_stemmed)"
   ]
  },
  {
   "cell_type": "code",
   "execution_count": 5,
   "id": "89a8455c-1445-423d-a570-eafedcef07f0",
   "metadata": {},
   "outputs": [],
   "source": [
    "%store -r all_corpus"
   ]
  },
  {
   "cell_type": "code",
   "execution_count": 6,
   "id": "2c84f422-b612-452d-9eac-b60ce67c24a6",
   "metadata": {},
   "outputs": [
    {
     "data": {
      "text/plain": [
       "246360"
      ]
     },
     "execution_count": 6,
     "metadata": {},
     "output_type": "execute_result"
    }
   ],
   "source": [
    "len(set(all_corpus))"
   ]
  },
  {
   "cell_type": "code",
   "execution_count": 7,
   "id": "3fb583b0-f6d5-483c-af3a-6e9f7d18a91c",
   "metadata": {},
   "outputs": [],
   "source": [
    "unique_corpus3 = list(set(all_corpus))[160001:]"
   ]
  },
  {
   "cell_type": "code",
   "execution_count": 10,
   "id": "b2f5e01e-73b6-4576-abb6-a4933ba33f40",
   "metadata": {},
   "outputs": [
    {
     "name": "stderr",
     "output_type": "stream",
     "text": [
      "100%|███████████████████████████████████| 86359/86359 [5:57:05<00:00,  4.03it/s]\n"
     ]
    }
   ],
   "source": [
    "unimpWords3 = []\n",
    "for word in tqdm(unique_corpus3):\n",
    "    occur = mp3.getWordOccurance(word)\n",
    "    if occur < 0.001 or occur > 0.8:\n",
    "        unimpWords3.append(word)"
   ]
  },
  {
   "cell_type": "code",
   "execution_count": 11,
   "id": "76735cc1-8303-44ac-a510-4b33e28a25f1",
   "metadata": {},
   "outputs": [
    {
     "name": "stdout",
     "output_type": "stream",
     "text": [
      "Stored 'unimpWords3' (list)\n"
     ]
    }
   ],
   "source": [
    "%store unimpWords3"
   ]
  },
  {
   "cell_type": "code",
   "execution_count": 13,
   "id": "23515d45-f1f7-40ae-b79e-37dcf2e96774",
   "metadata": {},
   "outputs": [
    {
     "data": {
      "text/plain": [
       "83784"
      ]
     },
     "execution_count": 13,
     "metadata": {},
     "output_type": "execute_result"
    }
   ],
   "source": [
    "len(unimpWords3)"
   ]
  },
  {
   "cell_type": "code",
   "execution_count": null,
   "id": "1bf52adc-0e91-4232-8327-f3e64ac5e189",
   "metadata": {},
   "outputs": [],
   "source": [
    "unimpWords3"
   ]
  }
 ],
 "metadata": {
  "kernelspec": {
   "display_name": "Python 3 (ipykernel)",
   "language": "python",
   "name": "python3"
  },
  "language_info": {
   "codemirror_mode": {
    "name": "ipython",
    "version": 3
   },
   "file_extension": ".py",
   "mimetype": "text/x-python",
   "name": "python",
   "nbconvert_exporter": "python",
   "pygments_lexer": "ipython3",
   "version": "3.8.8"
  }
 },
 "nbformat": 4,
 "nbformat_minor": 5
}
